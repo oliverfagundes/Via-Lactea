{
  "nbformat": 4,
  "nbformat_minor": 0,
  "metadata": {
    "colab": {
      "provenance": []
    },
    "kernelspec": {
      "name": "python3",
      "display_name": "Python 3"
    },
    "language_info": {
      "name": "python"
    }
  },
  "cells": [
    {
      "cell_type": "code",
      "execution_count": null,
      "metadata": {
        "id": "9PojlVCX8ziN"
      },
      "outputs": [],
      "source": [
        "from astropy.io import fits\n",
        "from astropy.table import Table\n",
        "import numpy as np\n",
        "import matplotlib.pyplot as plt\n",
        "import pandas as pd\n",
        "import scipy.optimize as opt\n",
        "from pandas.core.ops.array_ops import na_logical_op"
      ]
    },
    {
      "cell_type": "code",
      "source": [
        "kharchenko = '/content/drive/MyDrive/Estrutura/codigos/kharchenko.fit'\n",
        "catalogo = Table.read(kharchenko, hdu = 1)\n",
        "catalogo"
      ],
      "metadata": {
        "colab": {
          "base_uri": "https://localhost:8080/",
          "height": 652
        },
        "id": "yFBvDp18ExLQ",
        "outputId": "dafdd1ee-7792-4bea-f2c7-9954e24a2cb8"
      },
      "execution_count": null,
      "outputs": [
        {
          "output_type": "stream",
          "name": "stderr",
          "text": [
            "WARNING: VerifyWarning: Invalid keyword for column 10: Column disp option (TDISPn) failed verification: Format F8 is not recognized. The invalid value will be ignored for the purpose of formatting the data in this column. [astropy.io.fits.column]\n",
            "WARNING:astropy:VerifyWarning: Invalid keyword for column 10: Column disp option (TDISPn) failed verification: Format F8 is not recognized. The invalid value will be ignored for the purpose of formatting the data in this column.\n",
            "WARNING: UnitsWarning: 'log(yr)' did not parse as fits unit: 'log' is not a recognized function If this is meant to be a custom unit, define it with 'u.def_unit'. To have it recognized inside a file reader or other code, enable it with 'u.add_enabled_units'. For details, see https://docs.astropy.org/en/latest/units/combining_and_defining.html [astropy.units.core]\n",
            "WARNING:astropy:UnitsWarning: 'log(yr)' did not parse as fits unit: 'log' is not a recognized function If this is meant to be a custom unit, define it with 'u.def_unit'. To have it recognized inside a file reader or other code, enable it with 'u.add_enabled_units'. For details, see https://docs.astropy.org/en/latest/units/combining_and_defining.html\n",
            "WARNING: UnitsWarning: 'log(Sun)' did not parse as fits unit: 'log' is not a recognized function If this is meant to be a custom unit, define it with 'u.def_unit'. To have it recognized inside a file reader or other code, enable it with 'u.add_enabled_units'. For details, see https://docs.astropy.org/en/latest/units/combining_and_defining.html [astropy.units.core]\n",
            "WARNING:astropy:UnitsWarning: 'log(Sun)' did not parse as fits unit: 'log' is not a recognized function If this is meant to be a custom unit, define it with 'u.def_unit'. To have it recognized inside a file reader or other code, enable it with 'u.add_enabled_units'. For details, see https://docs.astropy.org/en/latest/units/combining_and_defining.html\n"
          ]
        },
        {
          "output_type": "execute_result",
          "data": {
            "text/plain": [
              "<Table length=3006>\n",
              " recno          Name        Type  RAJ2000 ...   logt     rc       rt    __Fe_H_ \n",
              "                                    deg   ... log(yr)    pc       pc    log(Sun)\n",
              " int32        bytes17      bytes1 float32 ... float32 float64  float64  float64 \n",
              "-------- ----------------- ------ ------- ... ------- -------- -------- --------\n",
              "       1       Berkeley_58          0.068 ...   8.470     1.12    13.66       --\n",
              "       2          NGC_7801          0.083 ...   9.255     0.61     9.93       --\n",
              "       3          FSR_0459          0.127 ...   7.800     0.39     7.65       --\n",
              "       4          Stock_18          0.398 ...   8.680     0.16     2.14       --\n",
              "       5       Berkeley_59          0.559 ...   6.100     0.55     6.51       --\n",
              "       6           Cep_OB4      a   0.735 ...   6.100     9.54    13.56       --\n",
              "       7          Blanco_1          0.885 ...   7.750     2.82    10.93   -0.188\n",
              "       8      Berkeley_104          0.852 ...   8.805     1.13    14.92    0.070\n",
              "       9   IRAS_00013+6817          0.996 ...   7.150     0.73     5.69       --\n",
              "     ...               ...    ...     ... ...     ...      ...      ...      ...\n",
              "    2997        Harvard_21        358.556 ...   8.175     0.42     6.01       --\n",
              "    2998          FSR_0440        358.651 ...   9.100     2.75    16.41       --\n",
              "    2999        Czernik_45        358.957 ...   7.706     0.96     6.49       --\n",
              "    3000          NGC_7788        359.177 ...   7.480     0.98     5.47       --\n",
              "    3001          NGC_7789        359.355 ...   9.265     3.81    18.97   -0.240\n",
              "    3002          Frolov_1        359.355 ...   7.588     0.24     6.01       --\n",
              "    3003          NGC_7790        359.595 ...   8.100     1.56    14.63       --\n",
              "    3004          NGC_7795        359.409 ...   9.000     2.59    14.78       --\n",
              "    3005          FSR_0460        359.772 ...   8.705     1.56    16.85       --\n",
              "    3006          NGC_7762        357.465 ...   9.320     0.53     4.96       --"
            ],
            "text/html": [
              "<div><i>Table length=3006</i>\n",
              "<table id=\"table135355037977904\" class=\"table-striped table-bordered table-condensed\">\n",
              "<thead><tr><th>recno</th><th>Name</th><th>Type</th><th>RAJ2000</th><th>DEJ2000</th><th>pmRA</th><th>pmDE</th><th>RV</th><th>e_RV</th><th>d</th><th>logt</th><th>rc</th><th>rt</th><th>__Fe_H_</th></tr></thead>\n",
              "<thead><tr><th></th><th></th><th></th><th>deg</th><th>deg</th><th>mas / yr</th><th>mas / yr</th><th>km / s</th><th>km / s</th><th>pc</th><th>log(yr)</th><th>pc</th><th>pc</th><th>log(Sun)</th></tr></thead>\n",
              "<thead><tr><th>int32</th><th>bytes17</th><th>bytes1</th><th>float32</th><th>float32</th><th>float32</th><th>float32</th><th>float32</th><th>float64</th><th>float64</th><th>float32</th><th>float64</th><th>float64</th><th>float64</th></tr></thead>\n",
              "<tr><td>1</td><td>Berkeley_58</td><td></td><td>0.068</td><td>60.933</td><td>0.56</td><td>1.56</td><td>--</td><td>--</td><td>2700.0</td><td>8.470</td><td>1.12</td><td>13.66</td><td>--</td></tr>\n",
              "<tr><td>2</td><td>NGC_7801</td><td></td><td>0.083</td><td>50.727</td><td>-3.20</td><td>-3.47</td><td>--</td><td>--</td><td>1953.0</td><td>9.255</td><td>0.61</td><td>9.93</td><td>--</td></tr>\n",
              "<tr><td>3</td><td>FSR_0459</td><td></td><td>0.127</td><td>59.242</td><td>-1.66</td><td>-0.01</td><td>--</td><td>--</td><td>2926.0</td><td>7.800</td><td>0.39</td><td>7.65</td><td>--</td></tr>\n",
              "<tr><td>4</td><td>Stock_18</td><td></td><td>0.398</td><td>64.625</td><td>-3.59</td><td>-1.15</td><td>--</td><td>--</td><td>774.0</td><td>8.680</td><td>0.16</td><td>2.14</td><td>--</td></tr>\n",
              "<tr><td>5</td><td>Berkeley_59</td><td></td><td>0.559</td><td>67.425</td><td>-3.20</td><td>-1.11</td><td>-12.5</td><td>7.08</td><td>1000.0</td><td>6.100</td><td>0.55</td><td>6.51</td><td>--</td></tr>\n",
              "<tr><td>6</td><td>Cep_OB4</td><td>a</td><td>0.735</td><td>67.500</td><td>-0.93</td><td>-2.58</td><td>0.0</td><td>--</td><td>850.0</td><td>6.100</td><td>9.54</td><td>13.56</td><td>--</td></tr>\n",
              "<tr><td>7</td><td>Blanco_1</td><td></td><td>0.885</td><td>-30.000</td><td>19.71</td><td>2.28</td><td>5.5</td><td>2.04</td><td>250.0</td><td>7.750</td><td>2.82</td><td>10.93</td><td>-0.188</td></tr>\n",
              "<tr><td>8</td><td>Berkeley_104</td><td></td><td>0.852</td><td>63.580</td><td>-4.57</td><td>-4.37</td><td>--</td><td>--</td><td>3599.0</td><td>8.805</td><td>1.13</td><td>14.92</td><td>0.070</td></tr>\n",
              "<tr><td>9</td><td>IRAS_00013+6817</td><td></td><td>0.996</td><td>68.565</td><td>-3.52</td><td>-1.55</td><td>--</td><td>--</td><td>1338.0</td><td>7.150</td><td>0.73</td><td>5.69</td><td>--</td></tr>\n",
              "<tr><td>...</td><td>...</td><td>...</td><td>...</td><td>...</td><td>...</td><td>...</td><td>...</td><td>...</td><td>...</td><td>...</td><td>...</td><td>...</td><td>...</td></tr>\n",
              "<tr><td>2997</td><td>Harvard_21</td><td></td><td>358.556</td><td>61.740</td><td>0.05</td><td>-3.47</td><td>--</td><td>--</td><td>2501.0</td><td>8.175</td><td>0.42</td><td>6.01</td><td>--</td></tr>\n",
              "<tr><td>2998</td><td>FSR_0440</td><td></td><td>358.651</td><td>50.142</td><td>-2.72</td><td>-2.74</td><td>--</td><td>--</td><td>6656.0</td><td>9.100</td><td>2.75</td><td>16.41</td><td>--</td></tr>\n",
              "<tr><td>2999</td><td>Czernik_45</td><td></td><td>358.957</td><td>64.620</td><td>-6.03</td><td>-7.14</td><td>-79.8</td><td>--</td><td>2501.0</td><td>7.706</td><td>0.96</td><td>6.49</td><td>--</td></tr>\n",
              "<tr><td>3000</td><td>NGC_7788</td><td></td><td>359.177</td><td>61.397</td><td>0.19</td><td>-2.74</td><td>-24.0</td><td>5.20</td><td>2200.0</td><td>7.480</td><td>0.98</td><td>5.47</td><td>--</td></tr>\n",
              "<tr><td>3001</td><td>NGC_7789</td><td></td><td>359.355</td><td>56.730</td><td>0.62</td><td>-2.87</td><td>-54.7</td><td>0.13</td><td>1800.0</td><td>9.265</td><td>3.81</td><td>18.97</td><td>-0.240</td></tr>\n",
              "<tr><td>3002</td><td>Frolov_1</td><td></td><td>359.355</td><td>61.623</td><td>-4.99</td><td>-1.35</td><td>16.4</td><td>3.00</td><td>2000.0</td><td>7.588</td><td>0.24</td><td>6.01</td><td>--</td></tr>\n",
              "<tr><td>3003</td><td>NGC_7790</td><td></td><td>359.595</td><td>61.198</td><td>-0.95</td><td>-0.40</td><td>-80.2</td><td>1.62</td><td>2900.0</td><td>8.100</td><td>1.56</td><td>14.63</td><td>--</td></tr>\n",
              "<tr><td>3004</td><td>NGC_7795</td><td></td><td>359.409</td><td>60.083</td><td>1.48</td><td>1.71</td><td>--</td><td>--</td><td>4901.0</td><td>9.000</td><td>2.59</td><td>14.78</td><td>--</td></tr>\n",
              "<tr><td>3005</td><td>FSR_0460</td><td></td><td>359.772</td><td>60.694</td><td>1.71</td><td>-3.26</td><td>--</td><td>--</td><td>5875.0</td><td>8.705</td><td>1.56</td><td>16.85</td><td>--</td></tr>\n",
              "<tr><td>3006</td><td>NGC_7762</td><td></td><td>357.465</td><td>68.025</td><td>-2.88</td><td>0.00</td><td>--</td><td>--</td><td>780.0</td><td>9.320</td><td>0.53</td><td>4.96</td><td>--</td></tr>\n",
              "</table></div>"
            ]
          },
          "metadata": {},
          "execution_count": 19
        }
      ]
    },
    {
      "cell_type": "code",
      "source": [
        "#deixando apenas os aglomerados globulares\n",
        "globulares = Table(catalogo[catalogo['Type'] == 'g'])\n",
        "\n",
        "#removendo colunas que não são importantes nem pra questão 4 nem pra 14\n",
        "globulares.remove_columns(names=['recno','logt', 'rc','rt'])\n",
        "\n",
        "# deixando apenas os mais distantes com d >= 4kpc\n",
        "distante = globulares[globulares['d'] >= 4000]\n",
        "\n",
        "#removendo as colunas que não são importantes para a questão 4\n",
        "distante.remove_columns(names = ['RV', 'e_RV','__Fe_H_'])\n",
        "distante"
      ],
      "metadata": {
        "colab": {
          "base_uri": "https://localhost:8080/",
          "height": 528
        },
        "id": "ZMG8nDNXPPkp",
        "outputId": "edae9c9b-f80a-4314-ce58-0cec575578f2"
      },
      "execution_count": null,
      "outputs": [
        {
          "output_type": "execute_result",
          "data": {
            "text/plain": [
              "<Table length=141>\n",
              "       Name        Type  RAJ2000 DEJ2000   pmRA     pmDE      d   \n",
              "                           deg     deg   mas / yr mas / yr    pc  \n",
              "     bytes17      bytes1 float32 float32 float32  float32  float64\n",
              "----------------- ------ ------- ------- -------- -------- -------\n",
              "          NGC_104      g   6.004 -72.081     3.44     0.00  4501.0\n",
              "          NGC_288      g  13.193 -26.585     8.59    -8.74  8912.0\n",
              "          NGC_362      g  15.825 -70.847     7.63    -4.67  8603.0\n",
              "         NGC_1261      g  48.068 -55.216    -2.38    -6.86 16298.0\n",
              "        Palomar_2      g  71.524  31.382     2.69    -5.06 27198.0\n",
              "         NGC_1851      g  78.533 -40.043    -3.05    -0.83 12097.0\n",
              "         NGC_1904      g  81.047 -24.520     0.20     1.13 12892.0\n",
              "         NGC_2298      g 102.247 -36.005     1.80    -3.69 10815.0\n",
              "         NGC_2419      g 114.535  38.882    -6.29    -1.19 82535.0\n",
              "              ...    ...     ...     ...      ...      ...     ...\n",
              "       Palomar_11      g 296.310  -8.000     0.98    -3.70 13412.0\n",
              "         NGC_6864      g 301.515 -21.921     3.63    -0.22 20897.0\n",
              "         NGC_6934      g 308.547   7.404    -2.93    -4.20 15606.0\n",
              "         NGC_6981      g 313.365 -12.537     2.25    -5.69 16997.0\n",
              "         NGC_7006      g 315.372  16.187     3.75    -6.20 41177.0\n",
              "         NGC_7078      g 322.492  12.167    -0.46    -4.98 10392.0\n",
              "         NGC_7089      g 323.362  -0.823     6.77    -4.54 11507.0\n",
              "         NGC_7099      g 325.099 -23.180    -0.61    -7.28  8109.0\n",
              "       Palomar_12      g 326.663 -21.253     0.86    -0.82 18996.0\n",
              "         NGC_7492      g 347.111 -15.612     1.64    -2.41 26303.0"
            ],
            "text/html": [
              "<div><i>Table length=141</i>\n",
              "<table id=\"table135355037975456\" class=\"table-striped table-bordered table-condensed\">\n",
              "<thead><tr><th>Name</th><th>Type</th><th>RAJ2000</th><th>DEJ2000</th><th>pmRA</th><th>pmDE</th><th>d</th></tr></thead>\n",
              "<thead><tr><th></th><th></th><th>deg</th><th>deg</th><th>mas / yr</th><th>mas / yr</th><th>pc</th></tr></thead>\n",
              "<thead><tr><th>bytes17</th><th>bytes1</th><th>float32</th><th>float32</th><th>float32</th><th>float32</th><th>float64</th></tr></thead>\n",
              "<tr><td>NGC_104</td><td>g</td><td>6.004</td><td>-72.081</td><td>3.44</td><td>0.00</td><td>4501.0</td></tr>\n",
              "<tr><td>NGC_288</td><td>g</td><td>13.193</td><td>-26.585</td><td>8.59</td><td>-8.74</td><td>8912.0</td></tr>\n",
              "<tr><td>NGC_362</td><td>g</td><td>15.825</td><td>-70.847</td><td>7.63</td><td>-4.67</td><td>8603.0</td></tr>\n",
              "<tr><td>NGC_1261</td><td>g</td><td>48.068</td><td>-55.216</td><td>-2.38</td><td>-6.86</td><td>16298.0</td></tr>\n",
              "<tr><td>Palomar_2</td><td>g</td><td>71.524</td><td>31.382</td><td>2.69</td><td>-5.06</td><td>27198.0</td></tr>\n",
              "<tr><td>NGC_1851</td><td>g</td><td>78.533</td><td>-40.043</td><td>-3.05</td><td>-0.83</td><td>12097.0</td></tr>\n",
              "<tr><td>NGC_1904</td><td>g</td><td>81.047</td><td>-24.520</td><td>0.20</td><td>1.13</td><td>12892.0</td></tr>\n",
              "<tr><td>NGC_2298</td><td>g</td><td>102.247</td><td>-36.005</td><td>1.80</td><td>-3.69</td><td>10815.0</td></tr>\n",
              "<tr><td>NGC_2419</td><td>g</td><td>114.535</td><td>38.882</td><td>-6.29</td><td>-1.19</td><td>82535.0</td></tr>\n",
              "<tr><td>...</td><td>...</td><td>...</td><td>...</td><td>...</td><td>...</td><td>...</td></tr>\n",
              "<tr><td>Palomar_11</td><td>g</td><td>296.310</td><td>-8.000</td><td>0.98</td><td>-3.70</td><td>13412.0</td></tr>\n",
              "<tr><td>NGC_6864</td><td>g</td><td>301.515</td><td>-21.921</td><td>3.63</td><td>-0.22</td><td>20897.0</td></tr>\n",
              "<tr><td>NGC_6934</td><td>g</td><td>308.547</td><td>7.404</td><td>-2.93</td><td>-4.20</td><td>15606.0</td></tr>\n",
              "<tr><td>NGC_6981</td><td>g</td><td>313.365</td><td>-12.537</td><td>2.25</td><td>-5.69</td><td>16997.0</td></tr>\n",
              "<tr><td>NGC_7006</td><td>g</td><td>315.372</td><td>16.187</td><td>3.75</td><td>-6.20</td><td>41177.0</td></tr>\n",
              "<tr><td>NGC_7078</td><td>g</td><td>322.492</td><td>12.167</td><td>-0.46</td><td>-4.98</td><td>10392.0</td></tr>\n",
              "<tr><td>NGC_7089</td><td>g</td><td>323.362</td><td>-0.823</td><td>6.77</td><td>-4.54</td><td>11507.0</td></tr>\n",
              "<tr><td>NGC_7099</td><td>g</td><td>325.099</td><td>-23.180</td><td>-0.61</td><td>-7.28</td><td>8109.0</td></tr>\n",
              "<tr><td>Palomar_12</td><td>g</td><td>326.663</td><td>-21.253</td><td>0.86</td><td>-0.82</td><td>18996.0</td></tr>\n",
              "<tr><td>NGC_7492</td><td>g</td><td>347.111</td><td>-15.612</td><td>1.64</td><td>-2.41</td><td>26303.0</td></tr>\n",
              "</table></div>"
            ]
          },
          "metadata": {},
          "execution_count": 20
        }
      ]
    },
    {
      "cell_type": "code",
      "source": [
        "soma_distancia = 0\n",
        "n = 0\n",
        "for i in distante[\"d\"]:\n",
        "  soma_distancia += i\n",
        "  n += 1\n",
        "distancia = soma_distancia / n\n",
        "print(soma_distancia)\n",
        "print(n)\n",
        "print(distancia)"
      ],
      "metadata": {
        "colab": {
          "base_uri": "https://localhost:8080/"
        },
        "id": "BODK9ObMGZmO",
        "outputId": "d01f73c4-fdac-4b5d-c861-99031ccc714d"
      },
      "execution_count": null,
      "outputs": [
        {
          "output_type": "stream",
          "name": "stdout",
          "text": [
            "1735167.0\n",
            "141\n",
            "12306.148936170213\n"
          ]
        }
      ]
    },
    {
      "cell_type": "code",
      "source": [
        "soma_alpha = 0\n",
        "n_a = 0\n",
        "for i in distante['RAJ2000']:\n",
        "  soma_alpha += i\n",
        "  n_a += 1\n",
        "RA = soma_alpha / n_a\n",
        "print(soma_alpha)\n",
        "print(n_a)\n",
        "print(RA)"
      ],
      "metadata": {
        "colab": {
          "base_uri": "https://localhost:8080/"
        },
        "id": "LIPtRLp2OP7e",
        "outputId": "fbde1a67-857f-4c04-96bf-def0140a71d7"
      },
      "execution_count": null,
      "outputs": [
        {
          "output_type": "stream",
          "name": "stdout",
          "text": [
            "34506.02549791336\n",
            "141\n",
            "244.7235850915841\n"
          ]
        }
      ]
    },
    {
      "cell_type": "code",
      "source": [
        "soma_delta = 0\n",
        "n_d = 0\n",
        "for i in distante['DEJ2000']:\n",
        "  soma_delta += i\n",
        "  n_d += 1\n",
        "DE = soma_delta / n_d\n",
        "print(soma_delta)\n",
        "print(n_a)\n",
        "print(DE)"
      ],
      "metadata": {
        "colab": {
          "base_uri": "https://localhost:8080/"
        },
        "id": "-rjoyO7fo3Oy",
        "outputId": "9ac6bd48-b061-485e-cf41-fea179100088"
      },
      "execution_count": null,
      "outputs": [
        {
          "output_type": "stream",
          "name": "stdout",
          "text": [
            "-3399.3949920982122\n",
            "141\n",
            "-24.109184341122074\n"
          ]
        }
      ]
    },
    {
      "cell_type": "code",
      "source": [
        "distante.write('kharchenko2013.csv', overwrite=True, delimiter = ',')\n",
        "#ascii.write(distante, 'kharchenko2013.csv', format='csv', fast_writer=False)"
      ],
      "metadata": {
        "id": "7MxaHX0UqAkM"
      },
      "execution_count": null,
      "outputs": []
    },
    {
      "cell_type": "code",
      "source": [
        "data = pd.read_csv('kharchenko2013.csv', sep = ',')\n",
        "data"
      ],
      "metadata": {
        "colab": {
          "base_uri": "https://localhost:8080/",
          "height": 424
        },
        "id": "jrvVANO63VXx",
        "outputId": "754b3f90-d8ad-44fe-fc56-4dfdf7d52830"
      },
      "execution_count": null,
      "outputs": [
        {
          "output_type": "execute_result",
          "data": {
            "text/plain": [
              "           Name Type  RAJ2000  DEJ2000  pmRA  pmDE        d\n",
              "0       NGC_104    g    6.004  -72.081  3.44  0.00   4501.0\n",
              "1       NGC_288    g   13.193  -26.585  8.59 -8.74   8912.0\n",
              "2       NGC_362    g   15.825  -70.847  7.63 -4.67   8603.0\n",
              "3      NGC_1261    g   48.068  -55.216 -2.38 -6.86  16298.0\n",
              "4     Palomar_2    g   71.524   31.382  2.69 -5.06  27198.0\n",
              "..          ...  ...      ...      ...   ...   ...      ...\n",
              "136    NGC_7078    g  322.492   12.167 -0.46 -4.98  10392.0\n",
              "137    NGC_7089    g  323.362   -0.823  6.77 -4.54  11507.0\n",
              "138    NGC_7099    g  325.099  -23.180 -0.61 -7.28   8109.0\n",
              "139  Palomar_12    g  326.663  -21.253  0.86 -0.82  18996.0\n",
              "140    NGC_7492    g  347.111  -15.612  1.64 -2.41  26303.0\n",
              "\n",
              "[141 rows x 7 columns]"
            ],
            "text/html": [
              "\n",
              "\n",
              "  <div id=\"df-f1f19c1d-c2a2-407b-a97a-eab551243f3c\">\n",
              "    <div class=\"colab-df-container\">\n",
              "      <div>\n",
              "<style scoped>\n",
              "    .dataframe tbody tr th:only-of-type {\n",
              "        vertical-align: middle;\n",
              "    }\n",
              "\n",
              "    .dataframe tbody tr th {\n",
              "        vertical-align: top;\n",
              "    }\n",
              "\n",
              "    .dataframe thead th {\n",
              "        text-align: right;\n",
              "    }\n",
              "</style>\n",
              "<table border=\"1\" class=\"dataframe\">\n",
              "  <thead>\n",
              "    <tr style=\"text-align: right;\">\n",
              "      <th></th>\n",
              "      <th>Name</th>\n",
              "      <th>Type</th>\n",
              "      <th>RAJ2000</th>\n",
              "      <th>DEJ2000</th>\n",
              "      <th>pmRA</th>\n",
              "      <th>pmDE</th>\n",
              "      <th>d</th>\n",
              "    </tr>\n",
              "  </thead>\n",
              "  <tbody>\n",
              "    <tr>\n",
              "      <th>0</th>\n",
              "      <td>NGC_104</td>\n",
              "      <td>g</td>\n",
              "      <td>6.004</td>\n",
              "      <td>-72.081</td>\n",
              "      <td>3.44</td>\n",
              "      <td>0.00</td>\n",
              "      <td>4501.0</td>\n",
              "    </tr>\n",
              "    <tr>\n",
              "      <th>1</th>\n",
              "      <td>NGC_288</td>\n",
              "      <td>g</td>\n",
              "      <td>13.193</td>\n",
              "      <td>-26.585</td>\n",
              "      <td>8.59</td>\n",
              "      <td>-8.74</td>\n",
              "      <td>8912.0</td>\n",
              "    </tr>\n",
              "    <tr>\n",
              "      <th>2</th>\n",
              "      <td>NGC_362</td>\n",
              "      <td>g</td>\n",
              "      <td>15.825</td>\n",
              "      <td>-70.847</td>\n",
              "      <td>7.63</td>\n",
              "      <td>-4.67</td>\n",
              "      <td>8603.0</td>\n",
              "    </tr>\n",
              "    <tr>\n",
              "      <th>3</th>\n",
              "      <td>NGC_1261</td>\n",
              "      <td>g</td>\n",
              "      <td>48.068</td>\n",
              "      <td>-55.216</td>\n",
              "      <td>-2.38</td>\n",
              "      <td>-6.86</td>\n",
              "      <td>16298.0</td>\n",
              "    </tr>\n",
              "    <tr>\n",
              "      <th>4</th>\n",
              "      <td>Palomar_2</td>\n",
              "      <td>g</td>\n",
              "      <td>71.524</td>\n",
              "      <td>31.382</td>\n",
              "      <td>2.69</td>\n",
              "      <td>-5.06</td>\n",
              "      <td>27198.0</td>\n",
              "    </tr>\n",
              "    <tr>\n",
              "      <th>...</th>\n",
              "      <td>...</td>\n",
              "      <td>...</td>\n",
              "      <td>...</td>\n",
              "      <td>...</td>\n",
              "      <td>...</td>\n",
              "      <td>...</td>\n",
              "      <td>...</td>\n",
              "    </tr>\n",
              "    <tr>\n",
              "      <th>136</th>\n",
              "      <td>NGC_7078</td>\n",
              "      <td>g</td>\n",
              "      <td>322.492</td>\n",
              "      <td>12.167</td>\n",
              "      <td>-0.46</td>\n",
              "      <td>-4.98</td>\n",
              "      <td>10392.0</td>\n",
              "    </tr>\n",
              "    <tr>\n",
              "      <th>137</th>\n",
              "      <td>NGC_7089</td>\n",
              "      <td>g</td>\n",
              "      <td>323.362</td>\n",
              "      <td>-0.823</td>\n",
              "      <td>6.77</td>\n",
              "      <td>-4.54</td>\n",
              "      <td>11507.0</td>\n",
              "    </tr>\n",
              "    <tr>\n",
              "      <th>138</th>\n",
              "      <td>NGC_7099</td>\n",
              "      <td>g</td>\n",
              "      <td>325.099</td>\n",
              "      <td>-23.180</td>\n",
              "      <td>-0.61</td>\n",
              "      <td>-7.28</td>\n",
              "      <td>8109.0</td>\n",
              "    </tr>\n",
              "    <tr>\n",
              "      <th>139</th>\n",
              "      <td>Palomar_12</td>\n",
              "      <td>g</td>\n",
              "      <td>326.663</td>\n",
              "      <td>-21.253</td>\n",
              "      <td>0.86</td>\n",
              "      <td>-0.82</td>\n",
              "      <td>18996.0</td>\n",
              "    </tr>\n",
              "    <tr>\n",
              "      <th>140</th>\n",
              "      <td>NGC_7492</td>\n",
              "      <td>g</td>\n",
              "      <td>347.111</td>\n",
              "      <td>-15.612</td>\n",
              "      <td>1.64</td>\n",
              "      <td>-2.41</td>\n",
              "      <td>26303.0</td>\n",
              "    </tr>\n",
              "  </tbody>\n",
              "</table>\n",
              "<p>141 rows × 7 columns</p>\n",
              "</div>\n",
              "      <button class=\"colab-df-convert\" onclick=\"convertToInteractive('df-f1f19c1d-c2a2-407b-a97a-eab551243f3c')\"\n",
              "              title=\"Convert this dataframe to an interactive table.\"\n",
              "              style=\"display:none;\">\n",
              "\n",
              "  <svg xmlns=\"http://www.w3.org/2000/svg\" height=\"24px\"viewBox=\"0 0 24 24\"\n",
              "       width=\"24px\">\n",
              "    <path d=\"M0 0h24v24H0V0z\" fill=\"none\"/>\n",
              "    <path d=\"M18.56 5.44l.94 2.06.94-2.06 2.06-.94-2.06-.94-.94-2.06-.94 2.06-2.06.94zm-11 1L8.5 8.5l.94-2.06 2.06-.94-2.06-.94L8.5 2.5l-.94 2.06-2.06.94zm10 10l.94 2.06.94-2.06 2.06-.94-2.06-.94-.94-2.06-.94 2.06-2.06.94z\"/><path d=\"M17.41 7.96l-1.37-1.37c-.4-.4-.92-.59-1.43-.59-.52 0-1.04.2-1.43.59L10.3 9.45l-7.72 7.72c-.78.78-.78 2.05 0 2.83L4 21.41c.39.39.9.59 1.41.59.51 0 1.02-.2 1.41-.59l7.78-7.78 2.81-2.81c.8-.78.8-2.07 0-2.86zM5.41 20L4 18.59l7.72-7.72 1.47 1.35L5.41 20z\"/>\n",
              "  </svg>\n",
              "      </button>\n",
              "\n",
              "\n",
              "\n",
              "    <div id=\"df-fc3d7e22-8011-43eb-b4e5-4b9f25aa0de3\">\n",
              "      <button class=\"colab-df-quickchart\" onclick=\"quickchart('df-fc3d7e22-8011-43eb-b4e5-4b9f25aa0de3')\"\n",
              "              title=\"Suggest charts.\"\n",
              "              style=\"display:none;\">\n",
              "\n",
              "<svg xmlns=\"http://www.w3.org/2000/svg\" height=\"24px\"viewBox=\"0 0 24 24\"\n",
              "     width=\"24px\">\n",
              "    <g>\n",
              "        <path d=\"M19 3H5c-1.1 0-2 .9-2 2v14c0 1.1.9 2 2 2h14c1.1 0 2-.9 2-2V5c0-1.1-.9-2-2-2zM9 17H7v-7h2v7zm4 0h-2V7h2v10zm4 0h-2v-4h2v4z\"/>\n",
              "    </g>\n",
              "</svg>\n",
              "      </button>\n",
              "    </div>\n",
              "\n",
              "<style>\n",
              "  .colab-df-quickchart {\n",
              "    background-color: #E8F0FE;\n",
              "    border: none;\n",
              "    border-radius: 50%;\n",
              "    cursor: pointer;\n",
              "    display: none;\n",
              "    fill: #1967D2;\n",
              "    height: 32px;\n",
              "    padding: 0 0 0 0;\n",
              "    width: 32px;\n",
              "  }\n",
              "\n",
              "  .colab-df-quickchart:hover {\n",
              "    background-color: #E2EBFA;\n",
              "    box-shadow: 0px 1px 2px rgba(60, 64, 67, 0.3), 0px 1px 3px 1px rgba(60, 64, 67, 0.15);\n",
              "    fill: #174EA6;\n",
              "  }\n",
              "\n",
              "  [theme=dark] .colab-df-quickchart {\n",
              "    background-color: #3B4455;\n",
              "    fill: #D2E3FC;\n",
              "  }\n",
              "\n",
              "  [theme=dark] .colab-df-quickchart:hover {\n",
              "    background-color: #434B5C;\n",
              "    box-shadow: 0px 1px 3px 1px rgba(0, 0, 0, 0.15);\n",
              "    filter: drop-shadow(0px 1px 2px rgba(0, 0, 0, 0.3));\n",
              "    fill: #FFFFFF;\n",
              "  }\n",
              "</style>\n",
              "\n",
              "    <script>\n",
              "      async function quickchart(key) {\n",
              "        const containerElement = document.querySelector('#' + key);\n",
              "        const charts = await google.colab.kernel.invokeFunction(\n",
              "            'suggestCharts', [key], {});\n",
              "      }\n",
              "    </script>\n",
              "\n",
              "      <script>\n",
              "\n",
              "function displayQuickchartButton(domScope) {\n",
              "  let quickchartButtonEl =\n",
              "    domScope.querySelector('#df-fc3d7e22-8011-43eb-b4e5-4b9f25aa0de3 button.colab-df-quickchart');\n",
              "  quickchartButtonEl.style.display =\n",
              "    google.colab.kernel.accessAllowed ? 'block' : 'none';\n",
              "}\n",
              "\n",
              "        displayQuickchartButton(document);\n",
              "      </script>\n",
              "      <style>\n",
              "    .colab-df-container {\n",
              "      display:flex;\n",
              "      flex-wrap:wrap;\n",
              "      gap: 12px;\n",
              "    }\n",
              "\n",
              "    .colab-df-convert {\n",
              "      background-color: #E8F0FE;\n",
              "      border: none;\n",
              "      border-radius: 50%;\n",
              "      cursor: pointer;\n",
              "      display: none;\n",
              "      fill: #1967D2;\n",
              "      height: 32px;\n",
              "      padding: 0 0 0 0;\n",
              "      width: 32px;\n",
              "    }\n",
              "\n",
              "    .colab-df-convert:hover {\n",
              "      background-color: #E2EBFA;\n",
              "      box-shadow: 0px 1px 2px rgba(60, 64, 67, 0.3), 0px 1px 3px 1px rgba(60, 64, 67, 0.15);\n",
              "      fill: #174EA6;\n",
              "    }\n",
              "\n",
              "    [theme=dark] .colab-df-convert {\n",
              "      background-color: #3B4455;\n",
              "      fill: #D2E3FC;\n",
              "    }\n",
              "\n",
              "    [theme=dark] .colab-df-convert:hover {\n",
              "      background-color: #434B5C;\n",
              "      box-shadow: 0px 1px 3px 1px rgba(0, 0, 0, 0.15);\n",
              "      filter: drop-shadow(0px 1px 2px rgba(0, 0, 0, 0.3));\n",
              "      fill: #FFFFFF;\n",
              "    }\n",
              "  </style>\n",
              "\n",
              "      <script>\n",
              "        const buttonEl =\n",
              "          document.querySelector('#df-f1f19c1d-c2a2-407b-a97a-eab551243f3c button.colab-df-convert');\n",
              "        buttonEl.style.display =\n",
              "          google.colab.kernel.accessAllowed ? 'block' : 'none';\n",
              "\n",
              "        async function convertToInteractive(key) {\n",
              "          const element = document.querySelector('#df-f1f19c1d-c2a2-407b-a97a-eab551243f3c');\n",
              "          const dataTable =\n",
              "            await google.colab.kernel.invokeFunction('convertToInteractive',\n",
              "                                                     [key], {});\n",
              "          if (!dataTable) return;\n",
              "\n",
              "          const docLinkHtml = 'Like what you see? Visit the ' +\n",
              "            '<a target=\"_blank\" href=https://colab.research.google.com/notebooks/data_table.ipynb>data table notebook</a>'\n",
              "            + ' to learn more about interactive tables.';\n",
              "          element.innerHTML = '';\n",
              "          dataTable['output_type'] = 'display_data';\n",
              "          await google.colab.output.renderOutput(dataTable, element);\n",
              "          const docLink = document.createElement('div');\n",
              "          docLink.innerHTML = docLinkHtml;\n",
              "          element.appendChild(docLink);\n",
              "        }\n",
              "      </script>\n",
              "    </div>\n",
              "  </div>\n"
            ]
          },
          "metadata": {},
          "execution_count": 25
        }
      ]
    },
    {
      "cell_type": "code",
      "source": [
        "data.to_csv('kharchenko_2013.csv',index = False, sep = ',')"
      ],
      "metadata": {
        "id": "Fof4L_us8Do8"
      },
      "execution_count": null,
      "outputs": []
    },
    {
      "cell_type": "code",
      "source": [
        "#removendo colunas que não são importantes pra questão 14\n",
        "globulares.remove_columns(names=['pmRA', 'pmDE', '__Fe_H_'])\n",
        "globulares"
      ],
      "metadata": {
        "colab": {
          "base_uri": "https://localhost:8080/",
          "height": 528
        },
        "id": "kg2OBcm6SNNP",
        "outputId": "cf48c1f1-d425-4ae5-ad4c-dbe8f1a17cb5"
      },
      "execution_count": null,
      "outputs": [
        {
          "output_type": "execute_result",
          "data": {
            "text/plain": [
              "<Table length=147>\n",
              "       Name        Type  RAJ2000 DEJ2000    RV     e_RV      d   \n",
              "                           deg     deg    km / s  km / s     pc  \n",
              "     bytes17      bytes1 float32 float32 float32 float64  float64\n",
              "----------------- ------ ------- ------- ------- -------- -------\n",
              "          NGC_104      g   6.004 -72.081   -18.0     0.10  4501.0\n",
              "          NGC_288      g  13.193 -26.585   -45.4     0.20  8912.0\n",
              "          NGC_362      g  15.825 -70.847   223.5     0.50  8603.0\n",
              "         NGC_1261      g  48.068 -55.216    68.2     4.60 16298.0\n",
              "        Palomar_2      g  71.524  31.382  -133.0    57.00 27198.0\n",
              "         NGC_1851      g  78.533 -40.043   320.5     0.60 12097.0\n",
              "         NGC_1904      g  81.047 -24.520   205.8     0.40 12892.0\n",
              "         NGC_2298      g 102.247 -36.005   148.9     1.20 10815.0\n",
              "         NGC_2419      g 114.535  38.882   -20.2     0.50 82535.0\n",
              "              ...    ...     ...     ...     ...      ...     ...\n",
              "         NGC_6838      g 298.443  18.779   -22.8     0.20  3999.0\n",
              "         NGC_6864      g 301.515 -21.921  -189.3     3.60 20897.0\n",
              "         NGC_6934      g 308.547   7.404  -411.4     1.60 15606.0\n",
              "         NGC_6981      g 313.365 -12.537  -345.0     3.70 16997.0\n",
              "         NGC_7006      g 315.372  16.187  -384.1     0.40 41177.0\n",
              "         NGC_7078      g 322.492  12.167  -107.0     0.20 10392.0\n",
              "         NGC_7089      g 323.362  -0.823    -5.3     2.00 11507.0\n",
              "         NGC_7099      g 325.099 -23.180  -184.2     0.20  8109.0\n",
              "       Palomar_12      g 326.663 -21.253    27.8     1.50 18996.0\n",
              "         NGC_7492      g 347.111 -15.612  -177.5     0.60 26303.0"
            ],
            "text/html": [
              "<div><i>Table length=147</i>\n",
              "<table id=\"table135355037978480\" class=\"table-striped table-bordered table-condensed\">\n",
              "<thead><tr><th>Name</th><th>Type</th><th>RAJ2000</th><th>DEJ2000</th><th>RV</th><th>e_RV</th><th>d</th></tr></thead>\n",
              "<thead><tr><th></th><th></th><th>deg</th><th>deg</th><th>km / s</th><th>km / s</th><th>pc</th></tr></thead>\n",
              "<thead><tr><th>bytes17</th><th>bytes1</th><th>float32</th><th>float32</th><th>float32</th><th>float64</th><th>float64</th></tr></thead>\n",
              "<tr><td>NGC_104</td><td>g</td><td>6.004</td><td>-72.081</td><td>-18.0</td><td>0.10</td><td>4501.0</td></tr>\n",
              "<tr><td>NGC_288</td><td>g</td><td>13.193</td><td>-26.585</td><td>-45.4</td><td>0.20</td><td>8912.0</td></tr>\n",
              "<tr><td>NGC_362</td><td>g</td><td>15.825</td><td>-70.847</td><td>223.5</td><td>0.50</td><td>8603.0</td></tr>\n",
              "<tr><td>NGC_1261</td><td>g</td><td>48.068</td><td>-55.216</td><td>68.2</td><td>4.60</td><td>16298.0</td></tr>\n",
              "<tr><td>Palomar_2</td><td>g</td><td>71.524</td><td>31.382</td><td>-133.0</td><td>57.00</td><td>27198.0</td></tr>\n",
              "<tr><td>NGC_1851</td><td>g</td><td>78.533</td><td>-40.043</td><td>320.5</td><td>0.60</td><td>12097.0</td></tr>\n",
              "<tr><td>NGC_1904</td><td>g</td><td>81.047</td><td>-24.520</td><td>205.8</td><td>0.40</td><td>12892.0</td></tr>\n",
              "<tr><td>NGC_2298</td><td>g</td><td>102.247</td><td>-36.005</td><td>148.9</td><td>1.20</td><td>10815.0</td></tr>\n",
              "<tr><td>NGC_2419</td><td>g</td><td>114.535</td><td>38.882</td><td>-20.2</td><td>0.50</td><td>82535.0</td></tr>\n",
              "<tr><td>...</td><td>...</td><td>...</td><td>...</td><td>...</td><td>...</td><td>...</td></tr>\n",
              "<tr><td>NGC_6838</td><td>g</td><td>298.443</td><td>18.779</td><td>-22.8</td><td>0.20</td><td>3999.0</td></tr>\n",
              "<tr><td>NGC_6864</td><td>g</td><td>301.515</td><td>-21.921</td><td>-189.3</td><td>3.60</td><td>20897.0</td></tr>\n",
              "<tr><td>NGC_6934</td><td>g</td><td>308.547</td><td>7.404</td><td>-411.4</td><td>1.60</td><td>15606.0</td></tr>\n",
              "<tr><td>NGC_6981</td><td>g</td><td>313.365</td><td>-12.537</td><td>-345.0</td><td>3.70</td><td>16997.0</td></tr>\n",
              "<tr><td>NGC_7006</td><td>g</td><td>315.372</td><td>16.187</td><td>-384.1</td><td>0.40</td><td>41177.0</td></tr>\n",
              "<tr><td>NGC_7078</td><td>g</td><td>322.492</td><td>12.167</td><td>-107.0</td><td>0.20</td><td>10392.0</td></tr>\n",
              "<tr><td>NGC_7089</td><td>g</td><td>323.362</td><td>-0.823</td><td>-5.3</td><td>2.00</td><td>11507.0</td></tr>\n",
              "<tr><td>NGC_7099</td><td>g</td><td>325.099</td><td>-23.180</td><td>-184.2</td><td>0.20</td><td>8109.0</td></tr>\n",
              "<tr><td>Palomar_12</td><td>g</td><td>326.663</td><td>-21.253</td><td>27.8</td><td>1.50</td><td>18996.0</td></tr>\n",
              "<tr><td>NGC_7492</td><td>g</td><td>347.111</td><td>-15.612</td><td>-177.5</td><td>0.60</td><td>26303.0</td></tr>\n",
              "</table></div>"
            ]
          },
          "metadata": {},
          "execution_count": 27
        }
      ]
    },
    {
      "cell_type": "code",
      "source": [
        "rows = [74, 80, 82, 91, 92]\n",
        "globulares.remove_rows(rows)"
      ],
      "metadata": {
        "id": "UbLQGv6U_6JA"
      },
      "execution_count": null,
      "outputs": []
    },
    {
      "cell_type": "code",
      "source": [
        "soma_distancia = 0\n",
        "n = 0\n",
        "for i in globulares[\"d\"]:\n",
        "  soma_distancia += i\n",
        "  n += 1\n",
        "distancia = soma_distancia / n\n",
        "print(soma_distancia)\n",
        "print(distancia)"
      ],
      "metadata": {
        "colab": {
          "base_uri": "https://localhost:8080/"
        },
        "id": "5GJ6n9GrSNSv",
        "outputId": "699adb0a-0bcb-4b1e-e8a8-070e35f7288b"
      },
      "execution_count": null,
      "outputs": [
        {
          "output_type": "stream",
          "name": "stdout",
          "text": [
            "1715949.0\n",
            "12084.147887323943\n"
          ]
        }
      ]
    },
    {
      "cell_type": "code",
      "source": [
        "somavel = 0\n",
        "n = 0\n",
        "for i in globulares[\"RV\"]:\n",
        "  somavel += i\n",
        "  n += 1\n",
        "velocidade = somavel / n\n",
        "print(somavel)\n",
        "print(velocidade)"
      ],
      "metadata": {
        "colab": {
          "base_uri": "https://localhost:8080/"
        },
        "id": "nyWo0cN-Z3WI",
        "outputId": "41ff926a-fd10-473e-d77e-e6b14f1d6d3a"
      },
      "execution_count": null,
      "outputs": [
        {
          "output_type": "stream",
          "name": "stdout",
          "text": [
            "8142.000216722488\n",
            "57.33802969522879\n"
          ]
        }
      ]
    },
    {
      "cell_type": "code",
      "source": [
        "somaerro = 0\n",
        "n = 0\n",
        "for i in globulares[\"e_RV\"]:\n",
        "  somaerro += i\n",
        "  n += 1\n",
        "erro = somaerro / n\n",
        "print(somaerro)\n",
        "print(erro)"
      ],
      "metadata": {
        "colab": {
          "base_uri": "https://localhost:8080/"
        },
        "id": "XXXoIlNQZ3ZT",
        "outputId": "ba33524a-c431-415e-82b2-1ea408e44b04"
      },
      "execution_count": null,
      "outputs": [
        {
          "output_type": "stream",
          "name": "stdout",
          "text": [
            "1391.5000000000005\n",
            "9.79929577464789\n"
          ]
        }
      ]
    },
    {
      "cell_type": "code",
      "source": [
        "somaalpha = 0\n",
        "n = 0\n",
        "for i in globulares[\"RAJ2000\"]:\n",
        "  somaalpha += i\n",
        "  n += 1\n",
        "alpha = somaalpha / n\n",
        "print(somaalpha)\n",
        "print(erro)"
      ],
      "metadata": {
        "colab": {
          "base_uri": "https://localhost:8080/"
        },
        "id": "_MGlkOAncFf9",
        "outputId": "ce98b81c-fda7-4412-c52d-a462f7302b42"
      },
      "execution_count": null,
      "outputs": [
        {
          "output_type": "stream",
          "name": "stdout",
          "text": [
            "34796.259003162384\n",
            "245.04407748705904\n"
          ]
        }
      ]
    },
    {
      "cell_type": "code",
      "source": [
        "somadelta = 0\n",
        "n = 0\n",
        "for i in globulares[\"DEJ2000\"]:\n",
        "  somadelta += i\n",
        "  n += 1\n",
        "delta = somadelta / n\n",
        "print(somadelta)\n",
        "print(erro)"
      ],
      "metadata": {
        "colab": {
          "base_uri": "https://localhost:8080/"
        },
        "id": "E2mzQuEFcFi6",
        "outputId": "47928d7a-17bb-407e-fccb-159e37ddf769"
      },
      "execution_count": null,
      "outputs": [
        {
          "output_type": "stream",
          "name": "stdout",
          "text": [
            "-3400.96999143064\n",
            "245.04407748705904\n"
          ]
        }
      ]
    },
    {
      "cell_type": "code",
      "source": [
        "globulares.write('globulares2013.csv', overwrite=True, delimiter = ',')"
      ],
      "metadata": {
        "id": "PhLcr6miSNQs"
      },
      "execution_count": null,
      "outputs": []
    }
  ]
}